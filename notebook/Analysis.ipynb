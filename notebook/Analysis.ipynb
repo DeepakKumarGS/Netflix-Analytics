{
 "cells": [
  {
   "cell_type": "markdown",
   "metadata": {},
   "source": [
    "# Mining Netflix "
   ]
  },
  {
   "cell_type": "markdown",
   "metadata": {},
   "source": [
    "According to [Wikipedia](https://en.m.wikipedia.org/wiki/Netflix), Netflix, Inc. is an American media-services provider and production company headquartered in Los Gatos, California, founded in 1997 by Reed Hastings and Marc Randolph in Scotts Valley, California. The company's primary business is its subscription-based streaming service which offers online streaming of a library of films and television programs, including those produced in-house.As of April 2019, Netflix had over 148 million paid subscriptions worldwide, including 60 million in the United States, and over 154 million subscriptions total including free trials.\n",
    "\n",
    "While Netflix was launched in India few years ago,keeping in mind the largest internet and smartphone market,inorder to expand its customer base to tire 1 and tire 2 cities ,it launched its first mobile only subscription plan of Rs.199/USD 2.81 per month.India is the only market where Netflix has launched this mobile only plan.The base netflix plan in India costs around Rs.499/USD 7.04 per month - the most expensive compared to Amazon prime (Rs.129/USD 1.82 per month) and Hotstar(Rs.299/USD 4.22 per month).\n",
    "\n",
    "The content library of Netflix is one of the most outstanding and has appeal to all sections of people.Also, the streaming quality,the advantages of binge-watching,ever rising price of movie tickes(and popcorns!!!) are some of the reasons for the people to prefer OTT platforms like Netflix.\n",
    "\n",
    "The data provided here lists movies and TV shows found in Netflix along with their cast,rating and other details.We will explore this content and mine interesting insights.\n",
    "\n",
    "I have also published a [tableau workbook](https://public.tableau.com/profile/deepak.kumar5649#!/vizhome/NetflixMovieandShowAnalysis/Introduction) accompanying this kernel . Feel feel to check that out and let me know if you like my work."
   ]
  },
  {
   "cell_type": "code",
   "execution_count": 44,
   "metadata": {},
   "outputs": [
    {
     "data": {
      "text/html": [
       "\n",
       "<div class='tableauPlaceholder' id='viz1588308320617' style='position: relative'><noscript><a href='#'><img alt=' ' src='https:&#47;&#47;public.tableau.com&#47;static&#47;images&#47;Ne&#47;NetflixMovieandShowAnalysis&#47;Introduction&#47;1_rss.png' style='border: none' /></a></noscript><object class='tableauViz'  style='display:none;'><param name='host_url' value='https%3A%2F%2Fpublic.tableau.com%2F' /> <param name='embed_code_version' value='3' /> <param name='site_root' value='' /><param name='name' value='NetflixMovieandShowAnalysis&#47;Introduction' /><param name='tabs' value='yes' /><param name='toolbar' value='no' /><param name='static_image' value='https:&#47;&#47;public.tableau.com&#47;static&#47;images&#47;Ne&#47;NetflixMovieandShowAnalysis&#47;Introduction&#47;1.png' /> <param name='animate_transition' value='yes' /><param name='display_static_image' value='yes' /><param name='display_spinner' value='yes' /><param name='display_overlay' value='yes' /><param name='display_count' value='yes' /></object></div>                <script type='text/javascript'>                    var divElement = document.getElementById('viz1588308320617');                    var vizElement = divElement.getElementsByTagName('object')[0];                    vizElement.style.width='100%';vizElement.style.height=(divElement.offsetWidth*0.75)+'px';                    var scriptElement = document.createElement('script');                    scriptElement.src = 'https://public.tableau.com/javascripts/api/viz_v1.js';                    vizElement.parentNode.insertBefore(scriptElement, vizElement);                </script>\n"
      ],
      "text/plain": [
       "<IPython.core.display.HTML object>"
      ]
     },
     "metadata": {},
     "output_type": "display_data"
    }
   ],
   "source": [
    "%%HTML\n",
    "\n",
    "<div class='tableauPlaceholder' id='viz1588308320617' style='position: relative'><noscript><a href='#'><img alt=' ' src='https:&#47;&#47;public.tableau.com&#47;static&#47;images&#47;Ne&#47;NetflixMovieandShowAnalysis&#47;Introduction&#47;1_rss.png' style='border: none' /></a></noscript><object class='tableauViz'  style='display:none;'><param name='host_url' value='https%3A%2F%2Fpublic.tableau.com%2F' /> <param name='embed_code_version' value='3' /> <param name='site_root' value='' /><param name='name' value='NetflixMovieandShowAnalysis&#47;Introduction' /><param name='tabs' value='yes' /><param name='toolbar' value='no' /><param name='static_image' value='https:&#47;&#47;public.tableau.com&#47;static&#47;images&#47;Ne&#47;NetflixMovieandShowAnalysis&#47;Introduction&#47;1.png' /> <param name='animate_transition' value='yes' /><param name='display_static_image' value='yes' /><param name='display_spinner' value='yes' /><param name='display_overlay' value='yes' /><param name='display_count' value='yes' /></object></div>                <script type='text/javascript'>                    var divElement = document.getElementById('viz1588308320617');                    var vizElement = divElement.getElementsByTagName('object')[0];                    vizElement.style.width='100%';vizElement.style.height=(divElement.offsetWidth*0.75)+'px';                    var scriptElement = document.createElement('script');                    scriptElement.src = 'https://public.tableau.com/javascripts/api/viz_v1.js';                    vizElement.parentNode.insertBefore(scriptElement, vizElement);                </script>"
   ]
  },
  {
   "cell_type": "markdown",
   "metadata": {},
   "source": [
    "### Loading the library and  data"
   ]
  },
  {
   "cell_type": "code",
   "execution_count": 1,
   "metadata": {},
   "outputs": [],
   "source": [
    "import numpy as np\n",
    "import pandas as pd\n",
    "import matplotlib.pyplot as plt\n",
    "import seaborn as sns\n",
    "import warnings\n",
    "from collections import Counter\n",
    "warnings.filterwarnings('ignore')\n",
    "%matplotlib inline\n",
    "plt.style.use('fivethirtyeight')"
   ]
  },
  {
   "cell_type": "code",
   "execution_count": 2,
   "metadata": {},
   "outputs": [],
   "source": [
    "kaggle=0\n",
    "\n",
    "if kaggle==0:\n",
    "    data=pd.read_csv('../data/netflix_titles.csv')\n",
    "else:\n",
    "    data=pd.read_csv('../input/netflix-shows/netflix_titles.csv')"
   ]
  },
  {
   "cell_type": "markdown",
   "metadata": {},
   "source": [
    "## Summary of the data"
   ]
  },
  {
   "cell_type": "code",
   "execution_count": 3,
   "metadata": {},
   "outputs": [
    {
     "data": {
      "text/html": [
       "<div>\n",
       "<style scoped>\n",
       "    .dataframe tbody tr th:only-of-type {\n",
       "        vertical-align: middle;\n",
       "    }\n",
       "\n",
       "    .dataframe tbody tr th {\n",
       "        vertical-align: top;\n",
       "    }\n",
       "\n",
       "    .dataframe thead th {\n",
       "        text-align: right;\n",
       "    }\n",
       "</style>\n",
       "<table border=\"1\" class=\"dataframe\">\n",
       "  <thead>\n",
       "    <tr style=\"text-align: right;\">\n",
       "      <th></th>\n",
       "      <th>show_id</th>\n",
       "      <th>type</th>\n",
       "      <th>title</th>\n",
       "      <th>director</th>\n",
       "      <th>cast</th>\n",
       "      <th>country</th>\n",
       "      <th>date_added</th>\n",
       "      <th>release_year</th>\n",
       "      <th>rating</th>\n",
       "      <th>duration</th>\n",
       "      <th>listed_in</th>\n",
       "      <th>description</th>\n",
       "    </tr>\n",
       "  </thead>\n",
       "  <tbody>\n",
       "    <tr>\n",
       "      <th>0</th>\n",
       "      <td>s1</td>\n",
       "      <td>TV Show</td>\n",
       "      <td>3%</td>\n",
       "      <td>NaN</td>\n",
       "      <td>João Miguel, Bianca Comparato, Michel Gomes, R...</td>\n",
       "      <td>Brazil</td>\n",
       "      <td>August 14, 2020</td>\n",
       "      <td>2020</td>\n",
       "      <td>TV-MA</td>\n",
       "      <td>4 Seasons</td>\n",
       "      <td>International TV Shows, TV Dramas, TV Sci-Fi &amp;...</td>\n",
       "      <td>In a future where the elite inhabit an island ...</td>\n",
       "    </tr>\n",
       "    <tr>\n",
       "      <th>1</th>\n",
       "      <td>s2</td>\n",
       "      <td>Movie</td>\n",
       "      <td>7:19</td>\n",
       "      <td>Jorge Michel Grau</td>\n",
       "      <td>Demián Bichir, Héctor Bonilla, Oscar Serrano, ...</td>\n",
       "      <td>Mexico</td>\n",
       "      <td>December 23, 2016</td>\n",
       "      <td>2016</td>\n",
       "      <td>TV-MA</td>\n",
       "      <td>93 min</td>\n",
       "      <td>Dramas, International Movies</td>\n",
       "      <td>After a devastating earthquake hits Mexico Cit...</td>\n",
       "    </tr>\n",
       "    <tr>\n",
       "      <th>2</th>\n",
       "      <td>s3</td>\n",
       "      <td>Movie</td>\n",
       "      <td>23:59</td>\n",
       "      <td>Gilbert Chan</td>\n",
       "      <td>Tedd Chan, Stella Chung, Henley Hii, Lawrence ...</td>\n",
       "      <td>Singapore</td>\n",
       "      <td>December 20, 2018</td>\n",
       "      <td>2011</td>\n",
       "      <td>R</td>\n",
       "      <td>78 min</td>\n",
       "      <td>Horror Movies, International Movies</td>\n",
       "      <td>When an army recruit is found dead, his fellow...</td>\n",
       "    </tr>\n",
       "    <tr>\n",
       "      <th>3</th>\n",
       "      <td>s4</td>\n",
       "      <td>Movie</td>\n",
       "      <td>9</td>\n",
       "      <td>Shane Acker</td>\n",
       "      <td>Elijah Wood, John C. Reilly, Jennifer Connelly...</td>\n",
       "      <td>United States</td>\n",
       "      <td>November 16, 2017</td>\n",
       "      <td>2009</td>\n",
       "      <td>PG-13</td>\n",
       "      <td>80 min</td>\n",
       "      <td>Action &amp; Adventure, Independent Movies, Sci-Fi...</td>\n",
       "      <td>In a postapocalyptic world, rag-doll robots hi...</td>\n",
       "    </tr>\n",
       "    <tr>\n",
       "      <th>4</th>\n",
       "      <td>s5</td>\n",
       "      <td>Movie</td>\n",
       "      <td>21</td>\n",
       "      <td>Robert Luketic</td>\n",
       "      <td>Jim Sturgess, Kevin Spacey, Kate Bosworth, Aar...</td>\n",
       "      <td>United States</td>\n",
       "      <td>January 1, 2020</td>\n",
       "      <td>2008</td>\n",
       "      <td>PG-13</td>\n",
       "      <td>123 min</td>\n",
       "      <td>Dramas</td>\n",
       "      <td>A brilliant group of students become card-coun...</td>\n",
       "    </tr>\n",
       "  </tbody>\n",
       "</table>\n",
       "</div>"
      ],
      "text/plain": [
       "  show_id     type  title           director  \\\n",
       "0      s1  TV Show     3%                NaN   \n",
       "1      s2    Movie   7:19  Jorge Michel Grau   \n",
       "2      s3    Movie  23:59       Gilbert Chan   \n",
       "3      s4    Movie      9        Shane Acker   \n",
       "4      s5    Movie     21     Robert Luketic   \n",
       "\n",
       "                                                cast        country  \\\n",
       "0  João Miguel, Bianca Comparato, Michel Gomes, R...         Brazil   \n",
       "1  Demián Bichir, Héctor Bonilla, Oscar Serrano, ...         Mexico   \n",
       "2  Tedd Chan, Stella Chung, Henley Hii, Lawrence ...      Singapore   \n",
       "3  Elijah Wood, John C. Reilly, Jennifer Connelly...  United States   \n",
       "4  Jim Sturgess, Kevin Spacey, Kate Bosworth, Aar...  United States   \n",
       "\n",
       "          date_added  release_year rating   duration  \\\n",
       "0    August 14, 2020          2020  TV-MA  4 Seasons   \n",
       "1  December 23, 2016          2016  TV-MA     93 min   \n",
       "2  December 20, 2018          2011      R     78 min   \n",
       "3  November 16, 2017          2009  PG-13     80 min   \n",
       "4    January 1, 2020          2008  PG-13    123 min   \n",
       "\n",
       "                                           listed_in  \\\n",
       "0  International TV Shows, TV Dramas, TV Sci-Fi &...   \n",
       "1                       Dramas, International Movies   \n",
       "2                Horror Movies, International Movies   \n",
       "3  Action & Adventure, Independent Movies, Sci-Fi...   \n",
       "4                                             Dramas   \n",
       "\n",
       "                                         description  \n",
       "0  In a future where the elite inhabit an island ...  \n",
       "1  After a devastating earthquake hits Mexico Cit...  \n",
       "2  When an army recruit is found dead, his fellow...  \n",
       "3  In a postapocalyptic world, rag-doll robots hi...  \n",
       "4  A brilliant group of students become card-coun...  "
      ]
     },
     "execution_count": 3,
     "metadata": {},
     "output_type": "execute_result"
    }
   ],
   "source": [
    "data.head()"
   ]
  },
  {
   "cell_type": "code",
   "execution_count": 4,
   "metadata": {},
   "outputs": [
    {
     "name": "stdout",
     "output_type": "stream",
     "text": [
      "There are 7787 rows and 12 columns\n"
     ]
    }
   ],
   "source": [
    "print(f'There are {data.shape[0]} rows and {data.shape[1]} columns')"
   ]
  },
  {
   "cell_type": "code",
   "execution_count": 5,
   "metadata": {},
   "outputs": [
    {
     "data": {
      "text/plain": [
       "show_id         object\n",
       "type            object\n",
       "title           object\n",
       "director        object\n",
       "cast            object\n",
       "country         object\n",
       "date_added      object\n",
       "release_year     int64\n",
       "rating          object\n",
       "duration        object\n",
       "listed_in       object\n",
       "description     object\n",
       "dtype: object"
      ]
     },
     "execution_count": 5,
     "metadata": {},
     "output_type": "execute_result"
    }
   ],
   "source": [
    "data.dtypes"
   ]
  },
  {
   "cell_type": "code",
   "execution_count": 6,
   "metadata": {},
   "outputs": [
    {
     "data": {
      "text/plain": [
       "show_id         False\n",
       "type            False\n",
       "title           False\n",
       "director         True\n",
       "cast             True\n",
       "country          True\n",
       "date_added       True\n",
       "release_year    False\n",
       "rating           True\n",
       "duration        False\n",
       "listed_in       False\n",
       "description     False\n",
       "dtype: bool"
      ]
     },
     "execution_count": 6,
     "metadata": {},
     "output_type": "execute_result"
    }
   ],
   "source": [
    "### Checking the null values:\n",
    "\n",
    "data.isnull().any()"
   ]
  },
  {
   "cell_type": "markdown",
   "metadata": {},
   "source": [
    "* From the above datatype description we see that the release_year is of integer type,date added is object type whose datatype should have been date .\n",
    "* When we check the null values , we see that there are 5 columns having null values - director,cast,country,date_added and rating.\n",
    "\n"
   ]
  },
  {
   "cell_type": "code",
   "execution_count": 7,
   "metadata": {},
   "outputs": [],
   "source": [
    "### Changing the date added and release_year to date:\n",
    "\n",
    "data['date_added']=pd.to_datetime(data['date_added'])\n",
    "data['release_year']=pd.to_datetime(data['release_year'],format=\"%Y\")\n",
    "data['release_year']=data['release_year'].dt.year"
   ]
  },
  {
   "cell_type": "code",
   "execution_count": 8,
   "metadata": {},
   "outputs": [
    {
     "data": {
      "text/html": [
       "<div>\n",
       "<style scoped>\n",
       "    .dataframe tbody tr th:only-of-type {\n",
       "        vertical-align: middle;\n",
       "    }\n",
       "\n",
       "    .dataframe tbody tr th {\n",
       "        vertical-align: top;\n",
       "    }\n",
       "\n",
       "    .dataframe thead th {\n",
       "        text-align: right;\n",
       "    }\n",
       "</style>\n",
       "<table border=\"1\" class=\"dataframe\">\n",
       "  <thead>\n",
       "    <tr style=\"text-align: right;\">\n",
       "      <th></th>\n",
       "      <th>show_id</th>\n",
       "      <th>type</th>\n",
       "      <th>title</th>\n",
       "      <th>director</th>\n",
       "      <th>cast</th>\n",
       "      <th>country</th>\n",
       "      <th>date_added</th>\n",
       "      <th>release_year</th>\n",
       "      <th>rating</th>\n",
       "      <th>duration</th>\n",
       "      <th>listed_in</th>\n",
       "      <th>description</th>\n",
       "    </tr>\n",
       "  </thead>\n",
       "  <tbody>\n",
       "    <tr>\n",
       "      <th>0</th>\n",
       "      <td>s1</td>\n",
       "      <td>TV Show</td>\n",
       "      <td>3%</td>\n",
       "      <td>NaN</td>\n",
       "      <td>João Miguel, Bianca Comparato, Michel Gomes, R...</td>\n",
       "      <td>Brazil</td>\n",
       "      <td>2020-08-14</td>\n",
       "      <td>2020</td>\n",
       "      <td>TV-MA</td>\n",
       "      <td>4 Seasons</td>\n",
       "      <td>International TV Shows, TV Dramas, TV Sci-Fi &amp;...</td>\n",
       "      <td>In a future where the elite inhabit an island ...</td>\n",
       "    </tr>\n",
       "    <tr>\n",
       "      <th>1</th>\n",
       "      <td>s2</td>\n",
       "      <td>Movie</td>\n",
       "      <td>7:19</td>\n",
       "      <td>Jorge Michel Grau</td>\n",
       "      <td>Demián Bichir, Héctor Bonilla, Oscar Serrano, ...</td>\n",
       "      <td>Mexico</td>\n",
       "      <td>2016-12-23</td>\n",
       "      <td>2016</td>\n",
       "      <td>TV-MA</td>\n",
       "      <td>93 min</td>\n",
       "      <td>Dramas, International Movies</td>\n",
       "      <td>After a devastating earthquake hits Mexico Cit...</td>\n",
       "    </tr>\n",
       "    <tr>\n",
       "      <th>2</th>\n",
       "      <td>s3</td>\n",
       "      <td>Movie</td>\n",
       "      <td>23:59</td>\n",
       "      <td>Gilbert Chan</td>\n",
       "      <td>Tedd Chan, Stella Chung, Henley Hii, Lawrence ...</td>\n",
       "      <td>Singapore</td>\n",
       "      <td>2018-12-20</td>\n",
       "      <td>2011</td>\n",
       "      <td>R</td>\n",
       "      <td>78 min</td>\n",
       "      <td>Horror Movies, International Movies</td>\n",
       "      <td>When an army recruit is found dead, his fellow...</td>\n",
       "    </tr>\n",
       "    <tr>\n",
       "      <th>3</th>\n",
       "      <td>s4</td>\n",
       "      <td>Movie</td>\n",
       "      <td>9</td>\n",
       "      <td>Shane Acker</td>\n",
       "      <td>Elijah Wood, John C. Reilly, Jennifer Connelly...</td>\n",
       "      <td>United States</td>\n",
       "      <td>2017-11-16</td>\n",
       "      <td>2009</td>\n",
       "      <td>PG-13</td>\n",
       "      <td>80 min</td>\n",
       "      <td>Action &amp; Adventure, Independent Movies, Sci-Fi...</td>\n",
       "      <td>In a postapocalyptic world, rag-doll robots hi...</td>\n",
       "    </tr>\n",
       "    <tr>\n",
       "      <th>4</th>\n",
       "      <td>s5</td>\n",
       "      <td>Movie</td>\n",
       "      <td>21</td>\n",
       "      <td>Robert Luketic</td>\n",
       "      <td>Jim Sturgess, Kevin Spacey, Kate Bosworth, Aar...</td>\n",
       "      <td>United States</td>\n",
       "      <td>2020-01-01</td>\n",
       "      <td>2008</td>\n",
       "      <td>PG-13</td>\n",
       "      <td>123 min</td>\n",
       "      <td>Dramas</td>\n",
       "      <td>A brilliant group of students become card-coun...</td>\n",
       "    </tr>\n",
       "  </tbody>\n",
       "</table>\n",
       "</div>"
      ],
      "text/plain": [
       "  show_id     type  title           director  \\\n",
       "0      s1  TV Show     3%                NaN   \n",
       "1      s2    Movie   7:19  Jorge Michel Grau   \n",
       "2      s3    Movie  23:59       Gilbert Chan   \n",
       "3      s4    Movie      9        Shane Acker   \n",
       "4      s5    Movie     21     Robert Luketic   \n",
       "\n",
       "                                                cast        country  \\\n",
       "0  João Miguel, Bianca Comparato, Michel Gomes, R...         Brazil   \n",
       "1  Demián Bichir, Héctor Bonilla, Oscar Serrano, ...         Mexico   \n",
       "2  Tedd Chan, Stella Chung, Henley Hii, Lawrence ...      Singapore   \n",
       "3  Elijah Wood, John C. Reilly, Jennifer Connelly...  United States   \n",
       "4  Jim Sturgess, Kevin Spacey, Kate Bosworth, Aar...  United States   \n",
       "\n",
       "  date_added  release_year rating   duration  \\\n",
       "0 2020-08-14          2020  TV-MA  4 Seasons   \n",
       "1 2016-12-23          2016  TV-MA     93 min   \n",
       "2 2018-12-20          2011      R     78 min   \n",
       "3 2017-11-16          2009  PG-13     80 min   \n",
       "4 2020-01-01          2008  PG-13    123 min   \n",
       "\n",
       "                                           listed_in  \\\n",
       "0  International TV Shows, TV Dramas, TV Sci-Fi &...   \n",
       "1                       Dramas, International Movies   \n",
       "2                Horror Movies, International Movies   \n",
       "3  Action & Adventure, Independent Movies, Sci-Fi...   \n",
       "4                                             Dramas   \n",
       "\n",
       "                                         description  \n",
       "0  In a future where the elite inhabit an island ...  \n",
       "1  After a devastating earthquake hits Mexico Cit...  \n",
       "2  When an army recruit is found dead, his fellow...  \n",
       "3  In a postapocalyptic world, rag-doll robots hi...  \n",
       "4  A brilliant group of students become card-coun...  "
      ]
     },
     "execution_count": 8,
     "metadata": {},
     "output_type": "execute_result"
    }
   ],
   "source": [
    "data.head()"
   ]
  },
  {
   "cell_type": "markdown",
   "metadata": {},
   "source": [
    "## Exploratory Data Analysis"
   ]
  },
  {
   "cell_type": "markdown",
   "metadata": {},
   "source": [
    "### Number of titles"
   ]
  },
  {
   "cell_type": "code",
   "execution_count": 9,
   "metadata": {},
   "outputs": [
    {
     "name": "stdout",
     "output_type": "stream",
     "text": [
      "There are 7787 shows in the netflix dataset\n"
     ]
    }
   ],
   "source": [
    "## Check the number of titles present in the dataset:\n",
    "\n",
    "print(f'There are {data.show_id.nunique()} shows in the netflix dataset')"
   ]
  },
  {
   "cell_type": "markdown",
   "metadata": {},
   "source": [
    "We understand that each row is a unique title .Lets check the categories of titles available."
   ]
  },
  {
   "cell_type": "code",
   "execution_count": 10,
   "metadata": {},
   "outputs": [
    {
     "data": {
      "text/plain": [
       "Movie      69.050982\n",
       "TV Show    30.949018\n",
       "Name: type, dtype: float64"
      ]
     },
     "execution_count": 10,
     "metadata": {},
     "output_type": "execute_result"
    }
   ],
   "source": [
    "(data['type'].value_counts()/data.shape[0])*100"
   ]
  },
  {
   "cell_type": "markdown",
   "metadata": {},
   "source": [
    "69 % of the titles in this dataset is of Movie type whereas 30 % is of TV show type."
   ]
  },
  {
   "cell_type": "markdown",
   "metadata": {},
   "source": [
    "### Number of titles by date addded:"
   ]
  },
  {
   "cell_type": "markdown",
   "metadata": {},
   "source": [
    "Lets create two columns - year added and month added and understand the trend of titles added in the platform."
   ]
  },
  {
   "cell_type": "code",
   "execution_count": 11,
   "metadata": {},
   "outputs": [],
   "source": [
    "data['year_added']=data['date_added'].dt.year\n",
    "data['month_added']=data['date_added'].dt.month"
   ]
  },
  {
   "cell_type": "code",
   "execution_count": 12,
   "metadata": {},
   "outputs": [
    {
     "data": {
      "text/plain": [
       "2008.0       2\n",
       "2009.0       2\n",
       "2010.0       1\n",
       "2011.0      13\n",
       "2012.0       3\n",
       "2013.0      11\n",
       "2014.0      25\n",
       "2015.0      88\n",
       "2016.0     443\n",
       "2017.0    1225\n",
       "2018.0    1685\n",
       "2019.0    2153\n",
       "2020.0    2009\n",
       "2021.0     117\n",
       "Name: year_added, dtype: int64"
      ]
     },
     "execution_count": 12,
     "metadata": {},
     "output_type": "execute_result"
    }
   ],
   "source": [
    "data['year_added'].value_counts().sort_index()"
   ]
  },
  {
   "cell_type": "code",
   "execution_count": 13,
   "metadata": {},
   "outputs": [
    {
     "data": {
      "image/png": "[encoded data removed]",
      "text/plain": [
       "<Figure size 864x576 with 1 Axes>"
      ]
     },
     "metadata": {},
     "output_type": "display_data"
    }
   ],
   "source": [
    "plt.figure(figsize=(12,8))\n",
    "sns.countplot(x='year_added',data=data)\n",
    "plt.ylabel('Count of titles',fontsize=12)\n",
    "plt.xlabel('Year',fontsize=12)\n",
    "plt.title(\"Count of titles over the year\",fontsize=15)\n",
    "plt.show()"
   ]
  },
  {
   "cell_type": "markdown",
   "metadata": {},
   "source": [
    "From the plot above , we understand that the number of titles over the years have increased.Lets plot the same with respect to the type of title. - Movie or TV Show."
   ]
  },
  {
   "cell_type": "code",
   "execution_count": 14,
   "metadata": {},
   "outputs": [
    {
     "data": {
      "image/png": "[encoded data removed]",
      "text/plain": [
       "<Figure size 864x576 with 1 Axes>"
      ]
     },
     "metadata": {},
     "output_type": "display_data"
    }
   ],
   "source": [
    "plt.figure(figsize=(12,8))\n",
    "sns.countplot(x='year_added',data=data,hue='type')\n",
    "plt.ylabel('Count of titles',fontsize=12)\n",
    "plt.xlabel('Year',fontsize=12)\n",
    "plt.title(\"Count of titles over the year by type\",fontsize=15)\n",
    "plt.show()"
   ]
  },
  {
   "cell_type": "markdown",
   "metadata": {},
   "source": [
    "Clearly , we understand that the number of tv shows added to the platform has increased over the years whereas the numer of movies has hit a peak in 2019 and seen a dip in 2020.Lets check the growth of the TV shows over the year and which year has seen the highest growth."
   ]
  },
  {
   "cell_type": "code",
   "execution_count": 15,
   "metadata": {},
   "outputs": [],
   "source": [
    "tvshow=data[data['type']=='TV Show']['year_added'].value_counts().sort_index()"
   ]
  },
  {
   "cell_type": "code",
   "execution_count": 16,
   "metadata": {},
   "outputs": [
    {
     "data": {
      "text/plain": [
       "2008.0         NaN\n",
       "2013.0    4.000000\n",
       "2014.0    0.200000\n",
       "2015.0    4.000000\n",
       "2016.0    5.166667\n",
       "2017.0    0.951351\n",
       "2018.0    0.191136\n",
       "2019.0    0.525581\n",
       "2020.0    0.062500\n",
       "2021.0   -0.958393\n",
       "Name: year_added, dtype: float64"
      ]
     },
     "execution_count": 16,
     "metadata": {},
     "output_type": "execute_result"
    }
   ],
   "source": [
    "tvshow.pct_change()"
   ]
  },
  {
   "cell_type": "markdown",
   "metadata": {},
   "source": [
    "There has been a 5.16 % increase in TV shows in the year 2016."
   ]
  },
  {
   "cell_type": "markdown",
   "metadata": {},
   "source": [
    "### Number of titles by month added:"
   ]
  },
  {
   "cell_type": "code",
   "execution_count": 17,
   "metadata": {},
   "outputs": [
    {
     "data": {
      "image/png": "[encoded data removed]",
      "text/plain": [
       "<Figure size 864x576 with 1 Axes>"
      ]
     },
     "metadata": {},
     "output_type": "display_data"
    }
   ],
   "source": [
    "plt.figure(figsize=(12,8))\n",
    "sns.countplot(x='month_added',data=data)\n",
    "plt.ylabel(\"Count of titles\",fontsize=12)\n",
    "plt.xlabel(\"Month\",fontsize=12)\n",
    "plt.title(\"Number of titles by month added\",fontsize=15)\n",
    "plt.show()"
   ]
  },
  {
   "cell_type": "markdown",
   "metadata": {},
   "source": [
    "Maximum titles were added between the month of Oct-Dec.Lets check whether the trend is change is different between TV show and movie title."
   ]
  },
  {
   "cell_type": "code",
   "execution_count": 18,
   "metadata": {},
   "outputs": [
    {
     "data": {
      "image/png": "[encoded data removed]",
      "text/plain": [
       "<Figure size 864x576 with 1 Axes>"
      ]
     },
     "metadata": {},
     "output_type": "display_data"
    }
   ],
   "source": [
    "plt.figure(figsize=(12,8))\n",
    "sns.countplot(x='month_added',data=data,hue='type')\n",
    "plt.ylabel(\"Count of titles\",fontsize=12)\n",
    "plt.xlabel(\"Month\",fontsize=12)\n",
    "plt.title(\"Number of titles by month added\",fontsize=15)\n",
    "plt.show()"
   ]
  },
  {
   "cell_type": "markdown",
   "metadata": {},
   "source": [
    "The trend is the same for TV show and movie titles.Oct-Dec were the months where most of the titles were added."
   ]
  },
  {
   "cell_type": "markdown",
   "metadata": {},
   "source": [
    "### Movie/TV Show Listing"
   ]
  },
  {
   "cell_type": "markdown",
   "metadata": {},
   "source": [
    "From the summary of the data , there is a column called listed_in which specifies what is the genre of each of the movies.There are multiple genres for a single title.Lets check how is the genre distributed in this dataset."
   ]
  },
  {
   "cell_type": "code",
   "execution_count": 19,
   "metadata": {},
   "outputs": [],
   "source": [
    "data['listed_in']=data['listed_in'].astype('str')\n",
    "data['num_listing']=data['listed_in'].apply(lambda x:len(x.split(\",\")))"
   ]
  },
  {
   "cell_type": "code",
   "execution_count": 20,
   "metadata": {},
   "outputs": [],
   "source": [
    "listing=set()\n",
    "count_listings=Counter()\n",
    "\n",
    "for listings in data['listed_in']:\n",
    "    listings=listings.split(\",\")\n",
    "    listing.update([lst.strip() for lst in listings])\n",
    "    for lst in listings:\n",
    "        count_listings[lst.strip()]+=1"
   ]
  },
  {
   "cell_type": "code",
   "execution_count": 21,
   "metadata": {},
   "outputs": [],
   "source": [
    "listings_title=pd.DataFrame.from_dict(count_listings,orient='index')\n",
    "listings_title.sort_values(0,ascending=False,inplace=True)\n",
    "listings_title.rename(columns={0:'count'},inplace=True)"
   ]
  },
  {
   "cell_type": "code",
   "execution_count": 22,
   "metadata": {},
   "outputs": [
    {
     "data": {
      "text/plain": [
       "count    7787.000000\n",
       "mean        2.192243\n",
       "std         0.786086\n",
       "min         1.000000\n",
       "25%         2.000000\n",
       "50%         2.000000\n",
       "75%         3.000000\n",
       "max         3.000000\n",
       "Name: num_listing, dtype: float64"
      ]
     },
     "execution_count": 22,
     "metadata": {},
     "output_type": "execute_result"
    }
   ],
   "source": [
    "data['num_listing'].describe()"
   ]
  },
  {
   "cell_type": "code",
   "execution_count": 23,
   "metadata": {},
   "outputs": [
    {
     "name": "stdout",
     "output_type": "stream",
     "text": [
      "There are 42 genres in the database\n"
     ]
    }
   ],
   "source": [
    "print(f'There are {len(listings_title)} genres in the database')"
   ]
  },
  {
   "cell_type": "code",
   "execution_count": 24,
   "metadata": {},
   "outputs": [
    {
     "data": {
      "text/plain": [
       "(array([0, 1, 2, 3, 4, 5, 6, 7, 8, 9]),\n",
       " [Text(0, 0, 'International Movies'),\n",
       "  Text(1, 0, 'Dramas'),\n",
       "  Text(2, 0, 'Comedies'),\n",
       "  Text(3, 0, 'International TV Shows'),\n",
       "  Text(4, 0, 'Documentaries'),\n",
       "  Text(5, 0, 'Action & Adventure'),\n",
       "  Text(6, 0, 'TV Dramas'),\n",
       "  Text(7, 0, 'Independent Movies'),\n",
       "  Text(8, 0, 'Children & Family Movies'),\n",
       "  Text(9, 0, 'Romantic Movies')])"
      ]
     },
     "execution_count": 24,
     "metadata": {},
     "output_type": "execute_result"
    },
    {
     "data": {
      "image/png": "[encoded data removed]",
      "text/plain": [
       "<Figure size 864x576 with 1 Axes>"
      ]
     },
     "metadata": {},
     "output_type": "display_data"
    }
   ],
   "source": [
    "## Top 10 genre titles available:\n",
    "\n",
    "plt.figure(figsize=(12,8))\n",
    "sns.barplot(x=listings_title[:10].index,y='count',data=listings_title[:10])\n",
    "plt.ylabel(\"Count of genres\",fontsize=12)\n",
    "plt.xlabel(\"Genres\",fontsize=12)\n",
    "plt.title(\"Genre Title Count\",fontsize=15)\n",
    "plt.xticks(rotation=90)"
   ]
  },
  {
   "cell_type": "markdown",
   "metadata": {},
   "source": [
    "From the plot of top 10 genre titles available,there are more than 2000+ titles listed as International Movies followed by ~2000 dramas and ~1300 comedies. "
   ]
  },
  {
   "cell_type": "markdown",
   "metadata": {},
   "source": [
    "### Countries of the titles:"
   ]
  },
  {
   "cell_type": "markdown",
   "metadata": {},
   "source": [
    "It is not sure from the data description what exactly the countries column refer to -I am assuming it to be the country of origin of the title.Lets analyse this column in a similar way as that of listed_in column."
   ]
  },
  {
   "cell_type": "code",
   "execution_count": 25,
   "metadata": {},
   "outputs": [],
   "source": [
    "data['country']=data['country'].astype('str')\n",
    "data['num_countries']=data['country'].apply(lambda x:len(x.split(\",\")))\n",
    "\n",
    "country=set()\n",
    "count_country=Counter()\n",
    "\n",
    "for c in data['country']:\n",
    "    if c not in ['nan','']:\n",
    "        c=c.split(\",\")\n",
    "        country.update([cs.strip() for cs in c])\n",
    "        for cs in c:\n",
    "            count_country[cs.strip()]+=1\n",
    "        \n",
    "        \n",
    "countries_df=pd.DataFrame.from_dict(count_country,orient='index')\n",
    "countries_df.sort_values(0,ascending=False,inplace=True)\n",
    "countries_df.rename(columns={0:'count'},inplace=True)"
   ]
  },
  {
   "cell_type": "code",
   "execution_count": 26,
   "metadata": {},
   "outputs": [
    {
     "data": {
      "text/plain": [
       "count    7787.000000\n",
       "mean        1.229485\n",
       "std         0.668251\n",
       "min         1.000000\n",
       "25%         1.000000\n",
       "50%         1.000000\n",
       "75%         1.000000\n",
       "max        12.000000\n",
       "Name: num_countries, dtype: float64"
      ]
     },
     "execution_count": 26,
     "metadata": {},
     "output_type": "execute_result"
    }
   ],
   "source": [
    "data['num_countries'].describe()"
   ]
  },
  {
   "cell_type": "code",
   "execution_count": 27,
   "metadata": {},
   "outputs": [
    {
     "name": "stdout",
     "output_type": "stream",
     "text": [
      "There are 118 countries titles in the database\n"
     ]
    }
   ],
   "source": [
    "print(f'There are {len(country)} countries titles in the database')"
   ]
  },
  {
   "cell_type": "code",
   "execution_count": 28,
   "metadata": {},
   "outputs": [
    {
     "data": {
      "text/plain": [
       "(array([0, 1, 2, 3, 4, 5, 6, 7, 8, 9]),\n",
       " [Text(0, 0, 'United States'),\n",
       "  Text(1, 0, 'India'),\n",
       "  Text(2, 0, 'United Kingdom'),\n",
       "  Text(3, 0, 'Canada'),\n",
       "  Text(4, 0, 'France'),\n",
       "  Text(5, 0, 'Japan'),\n",
       "  Text(6, 0, 'Spain'),\n",
       "  Text(7, 0, 'South Korea'),\n",
       "  Text(8, 0, 'Germany'),\n",
       "  Text(9, 0, 'Mexico')])"
      ]
     },
     "execution_count": 28,
     "metadata": {},
     "output_type": "execute_result"
    },
    {
     "data": {
      "image/png": "[encoded data removed]",
      "text/plain": [
       "<Figure size 864x576 with 1 Axes>"
      ]
     },
     "metadata": {},
     "output_type": "display_data"
    }
   ],
   "source": [
    "## Top 10 countries titles available:\n",
    "\n",
    "plt.figure(figsize=(12,8))\n",
    "sns.barplot(x=countries_df[:10].index,y='count',data=countries_df[:10])\n",
    "plt.ylabel(\"Count of countries\",fontsize=12)\n",
    "plt.xlabel(\"Country\",fontsize=12)\n",
    "plt.title(\"Countries Count\",fontsize=15)\n",
    "plt.xticks(rotation=90)"
   ]
  },
  {
   "cell_type": "markdown",
   "metadata": {},
   "source": [
    "* There are 3000+ titles from United States followed by India and UK .But the difference in the number of titles of US and India is very high."
   ]
  },
  {
   "cell_type": "markdown",
   "metadata": {},
   "source": [
    "### Ratings "
   ]
  },
  {
   "cell_type": "code",
   "execution_count": 29,
   "metadata": {},
   "outputs": [
    {
     "data": {
      "text/plain": [
       "TV-MA       2863\n",
       "TV-14       1931\n",
       "TV-PG        806\n",
       "R            665\n",
       "PG-13        386\n",
       "TV-Y         280\n",
       "TV-Y7        271\n",
       "PG           247\n",
       "TV-G         194\n",
       "NR            84\n",
       "G             39\n",
       "TV-Y7-FV       6\n",
       "UR             5\n",
       "NC-17          3\n",
       "Name: rating, dtype: int64"
      ]
     },
     "execution_count": 29,
     "metadata": {},
     "output_type": "execute_result"
    }
   ],
   "source": [
    "data['rating'].value_counts()"
   ]
  },
  {
   "cell_type": "markdown",
   "metadata": {},
   "source": [
    "TV-MA and TV-14 are the most common ratings available in this database.Lets check the rating with respect to type.\n"
   ]
  },
  {
   "cell_type": "markdown",
   "metadata": {},
   "source": [
    "### Rating with respect to type"
   ]
  },
  {
   "cell_type": "code",
   "execution_count": 30,
   "metadata": {},
   "outputs": [
    {
     "data": {
      "text/plain": [
       "type     rating  \n",
       "Movie    TV-MA       1845\n",
       "         TV-14       1272\n",
       "         R            663\n",
       "         TV-PG        505\n",
       "         PG-13        386\n",
       "         PG           247\n",
       "         TV-Y         117\n",
       "         TV-G         111\n",
       "         TV-Y7         95\n",
       "         NR            79\n",
       "         G             39\n",
       "         TV-Y7-FV       5\n",
       "         UR             5\n",
       "         NC-17          3\n",
       "TV Show  TV-MA       1018\n",
       "         TV-14        659\n",
       "         TV-PG        301\n",
       "         TV-Y7        176\n",
       "         TV-Y         163\n",
       "         TV-G          83\n",
       "         NR             5\n",
       "         R              2\n",
       "         TV-Y7-FV       1\n",
       "Name: rating, dtype: int64"
      ]
     },
     "execution_count": 30,
     "metadata": {},
     "output_type": "execute_result"
    }
   ],
   "source": [
    "data.groupby('type')['rating'].value_counts()"
   ]
  },
  {
   "cell_type": "markdown",
   "metadata": {},
   "source": [
    "There is no difference between the 1st and 2nd movie rating with respect to type.Is there any rating unique to a TV show or to a movie ?Lets check."
   ]
  },
  {
   "cell_type": "code",
   "execution_count": 31,
   "metadata": {},
   "outputs": [
    {
     "data": {
      "text/plain": [
       "set()"
      ]
     },
     "execution_count": 31,
     "metadata": {},
     "output_type": "execute_result"
    }
   ],
   "source": [
    "## check if there exist unique rating type in tv show \n",
    "set(data[data['type']=='TV Show'].rating.unique())-set(data[data['type']=='Movie'].rating.unique())"
   ]
  },
  {
   "cell_type": "code",
   "execution_count": 32,
   "metadata": {},
   "outputs": [
    {
     "data": {
      "text/plain": [
       "{'G', 'NC-17', 'PG', 'PG-13', 'UR'}"
      ]
     },
     "execution_count": 32,
     "metadata": {},
     "output_type": "execute_result"
    }
   ],
   "source": [
    "#check if there exist unique movie rating type\n",
    "set(data[data['type']=='Movie'].rating.unique())-set(data[data['type']=='TV Show'].rating.unique())"
   ]
  },
  {
   "cell_type": "markdown",
   "metadata": {},
   "source": [
    "From the above output,it is seen that G,NC-17,PG,PG-13 and UR are only certified for movies and no tv show has this rating."
   ]
  },
  {
   "cell_type": "markdown",
   "metadata": {},
   "source": [
    "### Directors"
   ]
  },
  {
   "cell_type": "code",
   "execution_count": 33,
   "metadata": {},
   "outputs": [],
   "source": [
    "## How many titles have more than one directors:\n",
    "data['director']=data['director'].astype('str')\n",
    "data['num_directors']=data['director'].apply(lambda x:len(x.split(\",\")))"
   ]
  },
  {
   "cell_type": "code",
   "execution_count": 34,
   "metadata": {},
   "outputs": [],
   "source": [
    "multi_director=data.loc[data['num_directors']>1,]"
   ]
  },
  {
   "cell_type": "code",
   "execution_count": 35,
   "metadata": {},
   "outputs": [
    {
     "data": {
      "text/html": [
       "<div>\n",
       "<style scoped>\n",
       "    .dataframe tbody tr th:only-of-type {\n",
       "        vertical-align: middle;\n",
       "    }\n",
       "\n",
       "    .dataframe tbody tr th {\n",
       "        vertical-align: top;\n",
       "    }\n",
       "\n",
       "    .dataframe thead th {\n",
       "        text-align: right;\n",
       "    }\n",
       "</style>\n",
       "<table border=\"1\" class=\"dataframe\">\n",
       "  <thead>\n",
       "    <tr style=\"text-align: right;\">\n",
       "      <th></th>\n",
       "      <th>show_id</th>\n",
       "      <th>type</th>\n",
       "      <th>title</th>\n",
       "      <th>director</th>\n",
       "      <th>cast</th>\n",
       "      <th>country</th>\n",
       "      <th>date_added</th>\n",
       "      <th>release_year</th>\n",
       "      <th>rating</th>\n",
       "      <th>duration</th>\n",
       "      <th>listed_in</th>\n",
       "      <th>description</th>\n",
       "      <th>year_added</th>\n",
       "      <th>month_added</th>\n",
       "      <th>num_listing</th>\n",
       "      <th>num_countries</th>\n",
       "      <th>num_directors</th>\n",
       "    </tr>\n",
       "  </thead>\n",
       "  <tbody>\n",
       "    <tr>\n",
       "      <th>25</th>\n",
       "      <td>s26</td>\n",
       "      <td>Movie</td>\n",
       "      <td>(T)ERROR</td>\n",
       "      <td>Lyric R. Cabral, David Felix Sutcliffe</td>\n",
       "      <td>NaN</td>\n",
       "      <td>United States</td>\n",
       "      <td>2016-06-30</td>\n",
       "      <td>2015</td>\n",
       "      <td>NR</td>\n",
       "      <td>84 min</td>\n",
       "      <td>Documentaries</td>\n",
       "      <td>This real-life look at FBI counterterrorism op...</td>\n",
       "      <td>2016.0</td>\n",
       "      <td>6.0</td>\n",
       "      <td>1</td>\n",
       "      <td>1</td>\n",
       "      <td>2</td>\n",
       "    </tr>\n",
       "    <tr>\n",
       "      <th>28</th>\n",
       "      <td>s29</td>\n",
       "      <td>Movie</td>\n",
       "      <td>#AnneFrank - Parallel Stories</td>\n",
       "      <td>Sabina Fedeli, Anna Migotto</td>\n",
       "      <td>Helen Mirren, Gengher Gatti</td>\n",
       "      <td>Italy</td>\n",
       "      <td>2020-07-01</td>\n",
       "      <td>2019</td>\n",
       "      <td>TV-14</td>\n",
       "      <td>95 min</td>\n",
       "      <td>Documentaries, International Movies</td>\n",
       "      <td>Through her diary, Anne Frank's story is retol...</td>\n",
       "      <td>2020.0</td>\n",
       "      <td>7.0</td>\n",
       "      <td>2</td>\n",
       "      <td>1</td>\n",
       "      <td>2</td>\n",
       "    </tr>\n",
       "    <tr>\n",
       "      <th>69</th>\n",
       "      <td>s70</td>\n",
       "      <td>Movie</td>\n",
       "      <td>14 Cameras</td>\n",
       "      <td>Scott Hussion, Seth Fuller</td>\n",
       "      <td>Neville Archambault, Amber Midthunder, Brytnee...</td>\n",
       "      <td>United States</td>\n",
       "      <td>2018-10-27</td>\n",
       "      <td>2018</td>\n",
       "      <td>TV-MA</td>\n",
       "      <td>89 min</td>\n",
       "      <td>Horror Movies, Thrillers</td>\n",
       "      <td>Upping the “13 Cameras” ante, this sequel find...</td>\n",
       "      <td>2018.0</td>\n",
       "      <td>10.0</td>\n",
       "      <td>2</td>\n",
       "      <td>1</td>\n",
       "      <td>2</td>\n",
       "    </tr>\n",
       "    <tr>\n",
       "      <th>70</th>\n",
       "      <td>s71</td>\n",
       "      <td>Movie</td>\n",
       "      <td>14 Minutes from Earth</td>\n",
       "      <td>Adam Davis, Jerry Kolber, Trey Nelson, Erich S...</td>\n",
       "      <td>NaN</td>\n",
       "      <td>United States</td>\n",
       "      <td>2019-02-01</td>\n",
       "      <td>2016</td>\n",
       "      <td>TV-MA</td>\n",
       "      <td>84 min</td>\n",
       "      <td>Documentaries</td>\n",
       "      <td>A Google executive boldly attempts a death-def...</td>\n",
       "      <td>2019.0</td>\n",
       "      <td>2.0</td>\n",
       "      <td>1</td>\n",
       "      <td>1</td>\n",
       "      <td>4</td>\n",
       "    </tr>\n",
       "    <tr>\n",
       "      <th>77</th>\n",
       "      <td>s78</td>\n",
       "      <td>Movie</td>\n",
       "      <td>2 Alone in Paris</td>\n",
       "      <td>Ramzy Bedia, Éric Judor</td>\n",
       "      <td>Ramzy Bedia, Éric Judor, Benoît Magimel, Krist...</td>\n",
       "      <td>France</td>\n",
       "      <td>2020-06-01</td>\n",
       "      <td>2008</td>\n",
       "      <td>TV-MA</td>\n",
       "      <td>97 min</td>\n",
       "      <td>Comedies, International Movies</td>\n",
       "      <td>A bumbling Paris policeman is doggedly determi...</td>\n",
       "      <td>2020.0</td>\n",
       "      <td>6.0</td>\n",
       "      <td>2</td>\n",
       "      <td>1</td>\n",
       "      <td>2</td>\n",
       "    </tr>\n",
       "  </tbody>\n",
       "</table>\n",
       "</div>"
      ],
      "text/plain": [
       "   show_id   type                          title  \\\n",
       "25     s26  Movie                       (T)ERROR   \n",
       "28     s29  Movie  #AnneFrank - Parallel Stories   \n",
       "69     s70  Movie                     14 Cameras   \n",
       "70     s71  Movie          14 Minutes from Earth   \n",
       "77     s78  Movie               2 Alone in Paris   \n",
       "\n",
       "                                             director  \\\n",
       "25             Lyric R. Cabral, David Felix Sutcliffe   \n",
       "28                        Sabina Fedeli, Anna Migotto   \n",
       "69                         Scott Hussion, Seth Fuller   \n",
       "70  Adam Davis, Jerry Kolber, Trey Nelson, Erich S...   \n",
       "77                            Ramzy Bedia, Éric Judor   \n",
       "\n",
       "                                                 cast        country  \\\n",
       "25                                                NaN  United States   \n",
       "28                        Helen Mirren, Gengher Gatti          Italy   \n",
       "69  Neville Archambault, Amber Midthunder, Brytnee...  United States   \n",
       "70                                                NaN  United States   \n",
       "77  Ramzy Bedia, Éric Judor, Benoît Magimel, Krist...         France   \n",
       "\n",
       "   date_added  release_year rating duration  \\\n",
       "25 2016-06-30          2015     NR   84 min   \n",
       "28 2020-07-01          2019  TV-14   95 min   \n",
       "69 2018-10-27          2018  TV-MA   89 min   \n",
       "70 2019-02-01          2016  TV-MA   84 min   \n",
       "77 2020-06-01          2008  TV-MA   97 min   \n",
       "\n",
       "                              listed_in  \\\n",
       "25                        Documentaries   \n",
       "28  Documentaries, International Movies   \n",
       "69             Horror Movies, Thrillers   \n",
       "70                        Documentaries   \n",
       "77       Comedies, International Movies   \n",
       "\n",
       "                                          description  year_added  \\\n",
       "25  This real-life look at FBI counterterrorism op...      2016.0   \n",
       "28  Through her diary, Anne Frank's story is retol...      2020.0   \n",
       "69  Upping the “13 Cameras” ante, this sequel find...      2018.0   \n",
       "70  A Google executive boldly attempts a death-def...      2019.0   \n",
       "77  A bumbling Paris policeman is doggedly determi...      2020.0   \n",
       "\n",
       "    month_added  num_listing  num_countries  num_directors  \n",
       "25          6.0            1              1              2  \n",
       "28          7.0            2              1              2  \n",
       "69         10.0            2              1              2  \n",
       "70          2.0            1              1              4  \n",
       "77          6.0            2              1              2  "
      ]
     },
     "execution_count": 35,
     "metadata": {},
     "output_type": "execute_result"
    }
   ],
   "source": [
    "multi_director.head()"
   ]
  },
  {
   "cell_type": "code",
   "execution_count": 36,
   "metadata": {},
   "outputs": [
    {
     "data": {
      "text/plain": [
       "2     492\n",
       "3      32\n",
       "4      13\n",
       "5       5\n",
       "7       1\n",
       "8       1\n",
       "9       1\n",
       "10      3\n",
       "11      2\n",
       "12      2\n",
       "13      1\n",
       "Name: num_directors, dtype: int64"
      ]
     },
     "execution_count": 36,
     "metadata": {},
     "output_type": "execute_result"
    }
   ],
   "source": [
    "multi_director['num_directors'].value_counts().sort_index()"
   ]
  },
  {
   "cell_type": "markdown",
   "metadata": {},
   "source": [
    "The maximum number of directors collaborated for a movie is 13.Let us check the titles where the number of directors is more than 5."
   ]
  },
  {
   "cell_type": "code",
   "execution_count": 37,
   "metadata": {},
   "outputs": [
    {
     "data": {
      "text/html": [
       "<div>\n",
       "<style scoped>\n",
       "    .dataframe tbody tr th:only-of-type {\n",
       "        vertical-align: middle;\n",
       "    }\n",
       "\n",
       "    .dataframe tbody tr th {\n",
       "        vertical-align: top;\n",
       "    }\n",
       "\n",
       "    .dataframe thead th {\n",
       "        text-align: right;\n",
       "    }\n",
       "</style>\n",
       "<table border=\"1\" class=\"dataframe\">\n",
       "  <thead>\n",
       "    <tr style=\"text-align: right;\">\n",
       "      <th></th>\n",
       "      <th>title</th>\n",
       "      <th>director</th>\n",
       "      <th>num_directors</th>\n",
       "    </tr>\n",
       "  </thead>\n",
       "  <tbody>\n",
       "    <tr>\n",
       "      <th>7470</th>\n",
       "      <td>Walt Disney Animation Studios Short Films Coll...</td>\n",
       "      <td>Chris Buck, Jennifer Lee, Patrick Osborne, Lau...</td>\n",
       "      <td>13</td>\n",
       "    </tr>\n",
       "    <tr>\n",
       "      <th>2585</th>\n",
       "      <td>HALO Legends</td>\n",
       "      <td>Shinji Aramaki, Mamoru Oshii, Hideki Futamura,...</td>\n",
       "      <td>12</td>\n",
       "    </tr>\n",
       "    <tr>\n",
       "      <th>4244</th>\n",
       "      <td>Movie 43</td>\n",
       "      <td>Peter Farrelly, Will Graham, Steve Carr, Griff...</td>\n",
       "      <td>12</td>\n",
       "    </tr>\n",
       "    <tr>\n",
       "      <th>5620</th>\n",
       "      <td>Sincerely Yours, Dhaka</td>\n",
       "      <td>Nuhash Humayun, Syed Ahmed Shawki, Rahat Rahma...</td>\n",
       "      <td>11</td>\n",
       "    </tr>\n",
       "    <tr>\n",
       "      <th>7684</th>\n",
       "      <td>X: Past Is Present</td>\n",
       "      <td>Hemant Gaba, Pratim D. Gupta, Sudhish Kamath, ...</td>\n",
       "      <td>11</td>\n",
       "    </tr>\n",
       "    <tr>\n",
       "      <th>1809</th>\n",
       "      <td>Don Quixote: The Ingenious Gentleman of La Mancha</td>\n",
       "      <td>Mahin Ibrahim, Austin Kolodney, Will Lowell, D...</td>\n",
       "      <td>10</td>\n",
       "    </tr>\n",
       "    <tr>\n",
       "      <th>3286</th>\n",
       "      <td>Kahlil Gibran's The Prophet</td>\n",
       "      <td>Roger Allers, Gaëtan Brizzi, Paul Brizzi, Joan...</td>\n",
       "      <td>10</td>\n",
       "    </tr>\n",
       "    <tr>\n",
       "      <th>5863</th>\n",
       "      <td>Sturgill Simpson Presents Sound &amp; Fury</td>\n",
       "      <td>Jumpei Mizusaki, Koji Morimoto, Michael Arias,...</td>\n",
       "      <td>10</td>\n",
       "    </tr>\n",
       "    <tr>\n",
       "      <th>2775</th>\n",
       "      <td>Holidays</td>\n",
       "      <td>Anthony Scott Burns, Nicholas McCarthy, Adam E...</td>\n",
       "      <td>9</td>\n",
       "    </tr>\n",
       "    <tr>\n",
       "      <th>6450</th>\n",
       "      <td>The Heyday of the Insensitive Bastards</td>\n",
       "      <td>Mark Columbus, Lauren Hoekstra, Sarah Kruchows...</td>\n",
       "      <td>8</td>\n",
       "    </tr>\n",
       "    <tr>\n",
       "      <th>7088</th>\n",
       "      <td>Til Death Do Us Part</td>\n",
       "      <td>Cho Li, Chen Hung-yi, Weica Wang, Liu Bang-yao...</td>\n",
       "      <td>7</td>\n",
       "    </tr>\n",
       "  </tbody>\n",
       "</table>\n",
       "</div>"
      ],
      "text/plain": [
       "                                                  title  \\\n",
       "7470  Walt Disney Animation Studios Short Films Coll...   \n",
       "2585                                       HALO Legends   \n",
       "4244                                           Movie 43   \n",
       "5620                             Sincerely Yours, Dhaka   \n",
       "7684                                 X: Past Is Present   \n",
       "1809  Don Quixote: The Ingenious Gentleman of La Mancha   \n",
       "3286                        Kahlil Gibran's The Prophet   \n",
       "5863             Sturgill Simpson Presents Sound & Fury   \n",
       "2775                                           Holidays   \n",
       "6450             The Heyday of the Insensitive Bastards   \n",
       "7088                               Til Death Do Us Part   \n",
       "\n",
       "                                               director  num_directors  \n",
       "7470  Chris Buck, Jennifer Lee, Patrick Osborne, Lau...             13  \n",
       "2585  Shinji Aramaki, Mamoru Oshii, Hideki Futamura,...             12  \n",
       "4244  Peter Farrelly, Will Graham, Steve Carr, Griff...             12  \n",
       "5620  Nuhash Humayun, Syed Ahmed Shawki, Rahat Rahma...             11  \n",
       "7684  Hemant Gaba, Pratim D. Gupta, Sudhish Kamath, ...             11  \n",
       "1809  Mahin Ibrahim, Austin Kolodney, Will Lowell, D...             10  \n",
       "3286  Roger Allers, Gaëtan Brizzi, Paul Brizzi, Joan...             10  \n",
       "5863  Jumpei Mizusaki, Koji Morimoto, Michael Arias,...             10  \n",
       "2775  Anthony Scott Burns, Nicholas McCarthy, Adam E...              9  \n",
       "6450  Mark Columbus, Lauren Hoekstra, Sarah Kruchows...              8  \n",
       "7088  Cho Li, Chen Hung-yi, Weica Wang, Liu Bang-yao...              7  "
      ]
     },
     "execution_count": 37,
     "metadata": {},
     "output_type": "execute_result"
    }
   ],
   "source": [
    "multi_director.loc[multi_director['num_directors']>5,['title','director','num_directors']].sort_values(by='num_directors',ascending=False)"
   ]
  },
  {
   "cell_type": "code",
   "execution_count": 38,
   "metadata": {},
   "outputs": [],
   "source": [
    "###Directors with most titles:\n",
    "director=data.loc[data['director']!='nan','director'].str.split(\",\",expand=True).stack().reset_index()\n",
    "director.rename(columns={0:'director'},inplace=True)"
   ]
  },
  {
   "cell_type": "code",
   "execution_count": 39,
   "metadata": {},
   "outputs": [
    {
     "data": {
      "text/plain": [
       "(array([0, 1, 2, 3, 4, 5, 6, 7, 8, 9]),\n",
       " [Text(0, 0, ' Jan Suter'),\n",
       "  Text(1, 0, 'Raúl Campos'),\n",
       "  Text(2, 0, 'Marcus Raboy'),\n",
       "  Text(3, 0, 'Jay Karas'),\n",
       "  Text(4, 0, 'Cathy Garcia-Molina'),\n",
       "  Text(5, 0, 'Jay Chapman'),\n",
       "  Text(6, 0, 'Martin Scorsese'),\n",
       "  Text(7, 0, 'Youssef Chahine'),\n",
       "  Text(8, 0, 'Steven Spielberg'),\n",
       "  Text(9, 0, 'David Dhawan')])"
      ]
     },
     "execution_count": 39,
     "metadata": {},
     "output_type": "execute_result"
    },
    {
     "data": {
      "image/png": "[encoded data removed]",
      "text/plain": [
       "<Figure size 864x576 with 1 Axes>"
      ]
     },
     "metadata": {},
     "output_type": "display_data"
    }
   ],
   "source": [
    "plt.figure(figsize=(12,8))\n",
    "sns.countplot(x=director['director'],data=director,order=director['director'].value_counts()[:10].index)\n",
    "plt.xlabel(\"Director\",fontsize=12)\n",
    "plt.ylabel(\"Count of titles\",fontsize=12)\n",
    "plt.title(\"Top 10 Directors with most titles\",fontsize=15)\n",
    "plt.xticks(rotation=90)"
   ]
  },
  {
   "cell_type": "markdown",
   "metadata": {},
   "source": [
    "Raul Campos and Jan Suter are the directors having 18 titles each.Lets check individually by the type of title."
   ]
  },
  {
   "cell_type": "code",
   "execution_count": 40,
   "metadata": {},
   "outputs": [],
   "source": [
    "director=data.loc[data['director']!='nan',].set_index('type').director.str.split(\",\",expand=True).stack().reset_index('type')\n",
    "director.rename(columns={0:'directors'},inplace=True)"
   ]
  },
  {
   "cell_type": "code",
   "execution_count": 41,
   "metadata": {},
   "outputs": [
    {
     "data": {
      "text/plain": [
       "(array([0, 1, 2, 3, 4, 5, 6, 7, 8, 9]),\n",
       " [Text(0, 0, 'Ken Burns'),\n",
       "  Text(1, 0, 'Alastair Fothergill'),\n",
       "  Text(2, 0, 'Rob Seidenglanz'),\n",
       "  Text(3, 0, 'Jung-ah Im'),\n",
       "  Text(4, 0, 'Iginio Straffi'),\n",
       "  Text(5, 0, 'Shin Won-ho'),\n",
       "  Text(6, 0, 'Stan Lathan'),\n",
       "  Text(7, 0, 'Michael Simon'),\n",
       "  Text(8, 0, 'Mariano Barroso'),\n",
       "  Text(9, 0, ' Rashida Jones')])"
      ]
     },
     "execution_count": 41,
     "metadata": {},
     "output_type": "execute_result"
    },
    {
     "data": {
      "image/png": "[encoded data removed]",
      "text/plain": [
       "<Figure size 1080x720 with 2 Axes>"
      ]
     },
     "metadata": {},
     "output_type": "display_data"
    }
   ],
   "source": [
    "plt.figure(figsize=(15,10))\n",
    "plt.subplot(121)\n",
    "sns.countplot(x=director.loc[director['type']=='Movie','directors'],data=director[director['type']=='Movie'],order=director.loc[director['type']=='Movie','directors'].value_counts()[:10].index)\n",
    "plt.xlabel(\"Director\",fontsize=12)\n",
    "plt.ylabel(\"Count of titles\",fontsize=12)\n",
    "plt.title(\"Top 10 Directors(Movie) with most titles\",fontsize=15)\n",
    "plt.xticks(rotation=90)\n",
    "plt.subplot(122)\n",
    "sns.countplot(x=director.loc[director['type']=='TV Show','directors'],data=director[director['type']=='TV Show'],order=director.loc[director['type']=='TV Show','directors'].value_counts()[:10].index)\n",
    "plt.xlabel(\"Director\",fontsize=12)\n",
    "plt.ylabel(\"Count of titles\",fontsize=12)\n",
    "plt.title(\"Top 10 Directors(TV Show) with most titles\",fontsize=15)\n",
    "plt.xticks(rotation=90)"
   ]
  },
  {
   "cell_type": "markdown",
   "metadata": {},
   "source": [
    "Analysing the top 10 list between movie and tv show , it is seen that there is no overlap between the directors.Lets check if there exist any director who have directed both a tv show and a movie."
   ]
  },
  {
   "cell_type": "code",
   "execution_count": 42,
   "metadata": {},
   "outputs": [],
   "source": [
    "### directors who have both tv show and movie title:\n",
    "all_dup=director.groupby('directors')['type'].nunique()"
   ]
  },
  {
   "cell_type": "code",
   "execution_count": 43,
   "metadata": {},
   "outputs": [
    {
     "data": {
      "text/plain": [
       "directors\n",
       " Alban Teurlai          2\n",
       " Anurag Kashyap         2\n",
       " Hiroyuki Seshita       2\n",
       " John Paul Tremblay     2\n",
       " Julia Reichert         2\n",
       " Mike Smith             2\n",
       " Robb Wells             2\n",
       " Ronna Gradus           2\n",
       "Alastair Fothergill     2\n",
       "Alessandro Angulo       2\n",
       "Andrew Tan              2\n",
       "Anurag Basu             2\n",
       "BB Sasore               2\n",
       "Cosima Spender          2\n",
       "Dan Forrer              2\n",
       "Daniel Kontur           2\n",
       "David Ayer              2\n",
       "Eli Roth                2\n",
       "Estela Renner           2\n",
       "Jalil Lespert           2\n",
       "Jay Chandrasekhar       2\n",
       "Jerry Seinfeld          2\n",
       "Jill Bauer              2\n",
       "Joe Berlinger           2\n",
       "Justin Webster          2\n",
       "Ken Burns               2\n",
       "Kobun Shizuno           2\n",
       "Kyran Kelly             2\n",
       "Manolo Caro             2\n",
       "Marcus Raboy            2\n",
       "Mark Tonderai           2\n",
       "Masaaki Yuasa           2\n",
       "Mateo Gil               2\n",
       "Michael Simon           2\n",
       "Noam Murro              2\n",
       "Obi Emelonye            2\n",
       "Oliver Stone            2\n",
       "Quentin Tarantino       2\n",
       "Robert Kenner           2\n",
       "Ryan Polito             2\n",
       "Sion Sono               2\n",
       "Soumendra Padhi         2\n",
       "Stan Lathan             2\n",
       "Steven Bognar           2\n",
       "Tensai Okamura          2\n",
       "Thierry Demaizière      2\n",
       "Thomas Astruc           2\n",
       "Tiller Russell          2\n",
       "Tosin Coker             2\n",
       "Tsutomu Mizushima       2\n",
       "Vikramaditya Motwane    2\n",
       "Ziad Doueiri            2\n",
       "Name: type, dtype: int64"
      ]
     },
     "execution_count": 43,
     "metadata": {},
     "output_type": "execute_result"
    }
   ],
   "source": [
    "all_dup[all_dup>1]"
   ]
  },
  {
   "cell_type": "markdown",
   "metadata": {},
   "source": [
    "The above directors have both tv show and movie to their credit."
   ]
  }
 ],
 "metadata": {
  "kernelspec": {
   "display_name": "Python 3",
   "language": "python",
   "name": "python3"
  },
  "language_info": {
   "codemirror_mode": {
    "name": "ipython",
    "version": 3
   },
   "file_extension": ".py",
   "mimetype": "text/x-python",
   "name": "python",
   "nbconvert_exporter": "python",
   "pygments_lexer": "ipython3",
   "version": "3.7.6"
  }
 },
 "nbformat": 4,
 "nbformat_minor": 2
}
